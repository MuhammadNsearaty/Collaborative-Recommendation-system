{
 "cells": [
  {
   "cell_type": "markdown",
   "metadata": {
    "id": "UReDQvxZOKx7"
   },
   "source": [
    "# Collaborative Recommendation system"
   ]
  },
  {
   "cell_type": "markdown",
   "metadata": {
    "id": "vJDFZFSjOewq"
   },
   "source": [
    "## some imports"
   ]
  },
  {
   "cell_type": "code",
   "execution_count": 4,
   "metadata": {
    "id": "2NcFOwJIOIWM"
   },
   "outputs": [],
   "source": [
    "\n",
    "import pandas as pd\n",
    "from google.colab import drive\n",
    "# drive.mount('/content/gdrive')\n",
    "\n",
    "#remove the below hashtag if you don't have the required library\n",
    "# !pip install surprise\n",
    "from surprise import Reader,Dataset\n",
    "from surprise import SVD,SlopeOne, NMF, NormalPredictor, BaselineOnly, CoClustering \n",
    "from surprise.model_selection import cross_validate\n",
    "import seaborn as sns\n",
    "jsonFileName= \"/content/gdrive/MyDrive/goodreads_reviews_spoiler.csv\"\n"
   ]
  },
  {
   "cell_type": "markdown",
   "metadata": {
    "id": "vjZkl6_LPkWw"
   },
   "source": [
    "## Reading the Dataset"
   ]
  },
  {
   "cell_type": "code",
   "execution_count": 2,
   "metadata": {
    "colab": {
     "base_uri": "https://localhost:8080/",
     "height": 284
    },
    "id": "o_Vd-9BP6nt5",
    "outputId": "ac856542-378f-4f00-8478-6d6e9c3ac77c"
   },
   "outputs": [
    {
     "data": {
      "text/plain": [
       "<matplotlib.axes._subplots.AxesSubplot at 0x7f71dacf3710>"
      ]
     },
     "execution_count": 2,
     "metadata": {
      "tags": []
     },
     "output_type": "execute_result"
    },
    {
     "data": {
      "image/png": "[encoded data removed]",
      "text/plain": [
       "<Figure size 432x288 with 1 Axes>"
      ]
     },
     "metadata": {
      "needs_background": "light",
      "tags": []
     },
     "output_type": "display_data"
    }
   ],
   "source": [
    "\n",
    "main_df = pd.read_csv(jsonFileName)\n",
    "rate_keys = list(main_df['rating'].unique())\n",
    "rate_keys = sorted(rate_keys, reverse=True)\n",
    "ratings_dict = {}\n",
    "for i in rate_keys: ratings_dict[i] = 0\n",
    "enum = enumerate(pd.read_csv(jsonFileName,chunksize=10000),start=1)\n",
    "for i in enum:\n",
    "  for rate in i[1]['rating']:\n",
    "    ratings_dict[rate]+=1\n",
    "keys = list(ratings_dict.keys())\n",
    "# # get values in the same order as keys, and parse percentage values\n",
    "vals = [(ratings_dict[k]) for k in keys]\n",
    "sns.barplot(x=keys, y=vals)\n"
   ]
  },
  {
   "cell_type": "code",
   "execution_count": 5,
   "metadata": {
    "colab": {
     "base_uri": "https://localhost:8080/",
     "height": 204
    },
    "id": "AEqLRFWv_TA0",
    "outputId": "88853996-a087-4ce6-ad26-2b25f6b534f5"
   },
   "outputs": [
    {
     "data": {
      "text/html": [
       "<div>\n",
       "<style scoped>\n",
       "    .dataframe tbody tr th:only-of-type {\n",
       "        vertical-align: middle;\n",
       "    }\n",
       "\n",
       "    .dataframe tbody tr th {\n",
       "        vertical-align: top;\n",
       "    }\n",
       "\n",
       "    .dataframe thead th {\n",
       "        text-align: right;\n",
       "    }\n",
       "</style>\n",
       "<table border=\"1\" class=\"dataframe\">\n",
       "  <thead>\n",
       "    <tr style=\"text-align: right;\">\n",
       "      <th></th>\n",
       "      <th>user_id</th>\n",
       "      <th>book_id</th>\n",
       "      <th>rating</th>\n",
       "    </tr>\n",
       "  </thead>\n",
       "  <tbody>\n",
       "    <tr>\n",
       "      <th>1333527</th>\n",
       "      <td>621e07a81873c07f1093ce551a39a3f6</td>\n",
       "      <td>17210470</td>\n",
       "      <td>3</td>\n",
       "    </tr>\n",
       "    <tr>\n",
       "      <th>1243450</th>\n",
       "      <td>4d19bb85549390ca40c45f9c3894298e</td>\n",
       "      <td>5093</td>\n",
       "      <td>2</td>\n",
       "    </tr>\n",
       "    <tr>\n",
       "      <th>1027905</th>\n",
       "      <td>171350ed6c59a8c75f23b289e10596fa</td>\n",
       "      <td>13253276</td>\n",
       "      <td>3</td>\n",
       "    </tr>\n",
       "    <tr>\n",
       "      <th>494786</th>\n",
       "      <td>151bd68492cdea380d1b816aa01ece88</td>\n",
       "      <td>18134249</td>\n",
       "      <td>5</td>\n",
       "    </tr>\n",
       "    <tr>\n",
       "      <th>319741</th>\n",
       "      <td>958afdf8dd56da62298b04321be0d827</td>\n",
       "      <td>22055262</td>\n",
       "      <td>5</td>\n",
       "    </tr>\n",
       "  </tbody>\n",
       "</table>\n",
       "</div>"
      ],
      "text/plain": [
       "                                  user_id   book_id  rating\n",
       "1333527  621e07a81873c07f1093ce551a39a3f6  17210470       3\n",
       "1243450  4d19bb85549390ca40c45f9c3894298e      5093       2\n",
       "1027905  171350ed6c59a8c75f23b289e10596fa  13253276       3\n",
       "494786   151bd68492cdea380d1b816aa01ece88  18134249       5\n",
       "319741   958afdf8dd56da62298b04321be0d827  22055262       5"
      ]
     },
     "execution_count": 5,
     "metadata": {
      "tags": []
     },
     "output_type": "execute_result"
    }
   ],
   "source": [
    "reader = Reader(rating_scale=(0, 5))\n",
    "data = Dataset.load_from_df(main_df[['user_id', 'book_id', 'rating']], reader)\n",
    "data.df.sample(5)"
   ]
  },
  {
   "cell_type": "markdown",
   "metadata": {
    "id": "Jdp2vjbDQe32"
   },
   "source": [
    "## Test the algorithms"
   ]
  },
  {
   "cell_type": "markdown",
   "metadata": {
    "id": "GSC89EFfQ8pH"
   },
   "source": [
    "- in this section we're going to test some algoritms \n",
    "- and evaluate the best algorithm using Root Mean Squared Error metric"
   ]
  },
  {
   "cell_type": "code",
   "execution_count": 7,
   "metadata": {
    "colab": {
     "base_uri": "https://localhost:8080/",
     "height": 665
    },
    "id": "DNy3CiEbBlOr",
    "outputId": "9b8254fd-5d12-421e-f53b-2eb5cde98492"
   },
   "outputs": [
    {
     "name": "stdout",
     "output_type": "stream",
     "text": [
      "Evaluating RMSE of algorithm SVD on 3 split(s).\n",
      "\n",
      "                  Fold 1  Fold 2  Fold 3  Mean    Std     \n",
      "RMSE (testset)    1.1173  1.1148  1.1160  1.1160  0.0010  \n",
      "Fit time          58.59   59.37   63.40   60.46   2.11    \n",
      "Test time         6.53    7.26    6.59    6.80    0.33    \n",
      "Evaluating RMSE of algorithm NormalPredictor on 3 split(s).\n",
      "\n",
      "                  Fold 1  Fold 2  Fold 3  Mean    Std     \n",
      "RMSE (testset)    1.6631  1.6669  1.6676  1.6659  0.0020  \n",
      "Fit time          1.87    2.76    2.70    2.44    0.41    \n",
      "Test time         7.33    5.79    7.08    6.73    0.67    \n",
      "Evaluating RMSE of algorithm CoClustering on 3 split(s).\n",
      "\n",
      "                  Fold 1  Fold 2  Fold 3  Mean    Std     \n",
      "RMSE (testset)    1.1361  1.1267  1.1260  1.1296  0.0046  \n",
      "Fit time          40.38   40.49   43.85   41.58   1.61    \n",
      "Test time         6.90    6.67    5.91    6.49    0.42    \n",
      "Estimating biases using als...\n",
      "Estimating biases using als...\n",
      "Estimating biases using als...\n",
      "Evaluating RMSE of algorithm BaselineOnly on 3 split(s).\n",
      "\n",
      "                  Fold 1  Fold 2  Fold 3  Mean    Std     \n",
      "RMSE (testset)    1.0932  1.0945  1.0932  1.0937  0.0006  \n",
      "Fit time          8.38    8.87    9.58    8.94    0.50    \n",
      "Test time         7.02    6.63    5.81    6.48    0.51    \n"
     ]
    },
    {
     "data": {
      "text/html": [
       "<div>\n",
       "<style scoped>\n",
       "    .dataframe tbody tr th:only-of-type {\n",
       "        vertical-align: middle;\n",
       "    }\n",
       "\n",
       "    .dataframe tbody tr th {\n",
       "        vertical-align: top;\n",
       "    }\n",
       "\n",
       "    .dataframe thead th {\n",
       "        text-align: right;\n",
       "    }\n",
       "</style>\n",
       "<table border=\"1\" class=\"dataframe\">\n",
       "  <thead>\n",
       "    <tr style=\"text-align: right;\">\n",
       "      <th></th>\n",
       "      <th>test_rmse</th>\n",
       "      <th>fit_time</th>\n",
       "      <th>test_time</th>\n",
       "    </tr>\n",
       "    <tr>\n",
       "      <th>Algorithm</th>\n",
       "      <th></th>\n",
       "      <th></th>\n",
       "      <th></th>\n",
       "    </tr>\n",
       "  </thead>\n",
       "  <tbody>\n",
       "    <tr>\n",
       "      <th>BaselineOnly</th>\n",
       "      <td>1.093671</td>\n",
       "      <td>8.943585</td>\n",
       "      <td>6.484528</td>\n",
       "    </tr>\n",
       "    <tr>\n",
       "      <th>SVD</th>\n",
       "      <td>1.116033</td>\n",
       "      <td>60.455054</td>\n",
       "      <td>6.795038</td>\n",
       "    </tr>\n",
       "    <tr>\n",
       "      <th>CoClustering</th>\n",
       "      <td>1.129602</td>\n",
       "      <td>41.575189</td>\n",
       "      <td>6.491079</td>\n",
       "    </tr>\n",
       "    <tr>\n",
       "      <th>NormalPredictor</th>\n",
       "      <td>1.665865</td>\n",
       "      <td>2.444099</td>\n",
       "      <td>6.734090</td>\n",
       "    </tr>\n",
       "  </tbody>\n",
       "</table>\n",
       "</div>"
      ],
      "text/plain": [
       "                 test_rmse   fit_time  test_time\n",
       "Algorithm                                       \n",
       "BaselineOnly      1.093671   8.943585   6.484528\n",
       "SVD               1.116033  60.455054   6.795038\n",
       "CoClustering      1.129602  41.575189   6.491079\n",
       "NormalPredictor   1.665865   2.444099   6.734090"
      ]
     },
     "execution_count": 7,
     "metadata": {
      "tags": []
     },
     "output_type": "execute_result"
    }
   ],
   "source": [
    "# SVD ,NormalPredictor, CoClustering,BaselineOnly , SlopeOne, NMF\n",
    "result = []\n",
    "\n",
    "for algo in [SVD(),NormalPredictor(), CoClustering(),BaselineOnly()]:\n",
    "\n",
    "    results = cross_validate(algo, data, measures=['RMSE'], cv=3, verbose=True)\n",
    "    \n",
    "    t1 = pd.DataFrame.from_dict(results).mean(axis=0)\n",
    "  \n",
    "    t1 = t1.append(pd.Series([str(algo).split(' ')[0].split('.')[-1]], index=['Algorithm']))\n",
    "  \n",
    "    result.append(t1)\n",
    "    \n",
    "res = pd.DataFrame(result).set_index('Algorithm').sort_values('test_rmse')\n",
    "res"
   ]
  },
  {
   "cell_type": "markdown",
   "metadata": {
    "id": "XH5DLC4uS-uh"
   },
   "source": [
    "## Hyper parameters tuning\n",
    "- we found the best algorithm for our task \n",
    "- now we gonna find the best parameters for the algorithm"
   ]
  },
  {
   "cell_type": "code",
   "execution_count": 8,
   "metadata": {
    "colab": {
     "base_uri": "https://localhost:8080/"
    },
    "id": "yVlW2Tvl_afK",
    "outputId": "dc85f56f-b384-4ca4-9994-c57fcb5316a4"
   },
   "outputs": [
    {
     "name": "stdout",
     "output_type": "stream",
     "text": [
      "Estimating biases using als...\n",
      "Estimating biases using als...\n",
      "Estimating biases using als...\n",
      "Estimating biases using als...\n",
      "Estimating biases using als...\n",
      "Estimating biases using als...\n",
      "Estimating biases using als...\n",
      "Estimating biases using als...\n",
      "Estimating biases using als...\n",
      "Estimating biases using als...\n",
      "Estimating biases using als...\n",
      "Estimating biases using als...\n",
      "Estimating biases using als...\n",
      "Estimating biases using als...\n",
      "Estimating biases using als...\n",
      "Estimating biases using als...\n",
      "Estimating biases using als...\n",
      "Estimating biases using als...\n",
      "Estimating biases using als...\n",
      "Estimating biases using als...\n",
      "Estimating biases using als...\n",
      "Estimating biases using als...\n",
      "Estimating biases using als...\n",
      "Estimating biases using als...\n",
      "Estimating biases using sgd...\n",
      "Estimating biases using sgd...\n",
      "Estimating biases using sgd...\n",
      "Estimating biases using sgd...\n",
      "Estimating biases using sgd...\n",
      "Estimating biases using sgd...\n",
      "Estimating biases using sgd...\n",
      "Estimating biases using sgd...\n",
      "Estimating biases using sgd...\n",
      "Estimating biases using sgd...\n",
      "Estimating biases using sgd...\n",
      "Estimating biases using sgd...\n",
      "Estimating biases using sgd...\n",
      "Estimating biases using sgd...\n",
      "Estimating biases using sgd...\n",
      "Estimating biases using sgd...\n",
      "Estimating biases using sgd...\n",
      "Estimating biases using sgd...\n",
      "Estimating biases using sgd...\n",
      "Estimating biases using sgd...\n",
      "Estimating biases using sgd...\n",
      "Estimating biases using sgd...\n",
      "Estimating biases using sgd...\n",
      "Estimating biases using sgd...\n",
      "1.091807244545283\n",
      "{'bsl_options': {'method': 'als', 'n_epochs': 10, 'reg_u': 12, 'reg_i': 5}}\n"
     ]
    }
   ],
   "source": [
    "from surprise.model_selection import GridSearchCV\n",
    "from surprise.model_selection import train_test_split,cross_validate\n",
    "\n",
    "\"\"\"reg_u : the The regularization parameter for users (default is 15)\"\"\"\n",
    "\"\"\"reg_i : the The regularization parameter for items(default is 10)\"\"\"\n",
    "\"\"\"n_epochs : The number of iteration of the ALS procedure (default is 10)\"\"\"\n",
    "\n",
    "bsl_options = {\n",
    "    \"method\": [\"als\", \"sgd\"],\n",
    "    'n_epochs': [5,10],\n",
    "    'reg_u': [12,20],\n",
    "    'reg_i': [5,10]\n",
    "}\n",
    "\n",
    "param_grid = {\"bsl_options\": bsl_options}\n",
    "\n",
    "gs = GridSearchCV(BaselineOnly, param_grid, measures=[\"rmse\"], cv=3)\n",
    "fit_res = gs.fit(data)\n",
    "\n",
    "print(gs.best_score[\"rmse\"])\n",
    "print(gs.best_params[\"rmse\"])"
   ]
  },
  {
   "cell_type": "markdown",
   "metadata": {
    "id": "jr3cSmTPTlN7"
   },
   "source": [
    "## Train the final module\n",
    "- After we figured out the best parameters for the algorithm\n",
    "- Finally we are going to train the module"
   ]
  },
  {
   "cell_type": "code",
   "execution_count": 20,
   "metadata": {
    "colab": {
     "base_uri": "https://localhost:8080/"
    },
    "id": "8F5_AdooKgh6",
    "outputId": "adafa8f0-f009-41d9-deae-abd1699eb38c"
   },
   "outputs": [
    {
     "name": "stdout",
     "output_type": "stream",
     "text": [
      "Using ALS\n",
      "Estimating biases using als...\n",
      "Estimating biases using als...\n",
      "Estimating biases using als...\n",
      "Evaluating RMSE of algorithm BaselineOnly on 3 split(s).\n",
      "\n",
      "                  Fold 1  Fold 2  Fold 3  Mean    Std     \n",
      "RMSE (testset)    1.0918  1.0921  1.0912  1.0917  0.0004  \n",
      "Fit time          8.52    9.66    9.57    9.25    0.52    \n",
      "Test time         5.44    4.66    4.68    4.93    0.37    \n",
      "Estimating biases using als...\n",
      "RMSE: 1.0889\n"
     ]
    },
    {
     "data": {
      "text/plain": [
       "1.0889207739016644"
      ]
     },
     "execution_count": 20,
     "metadata": {
      "tags": []
     },
     "output_type": "execute_result"
    }
   ],
   "source": [
    "#the BaselineOnly Model is the best model from the tested models\n",
    "\n",
    "from surprise.model_selection import train_test_split,cross_validate\n",
    "from surprise import accuracy,BaselineOnly\n",
    "\n",
    "print('Using ALS')\n",
    "bsl_options = {'method': 'als',\n",
    "               'n_epochs': 10,\n",
    "               'reg_u': 12,\n",
    "               'reg_i': 5\n",
    "               }\n",
    "\n",
    "algo = BaselineOnly(bsl_options=bsl_options)\n",
    "\n",
    "cross_validate(algo, data, measures=['RMSE'], cv=3, verbose=True)\n",
    "\n",
    "trainset, testset = train_test_split(data, test_size=0.25)\n",
    "\n",
    "algo = BaselineOnly(bsl_options=bsl_options)\n",
    "\n",
    "predictions = algo.fit(trainset).test(testset)\n",
    "\n",
    "accuracy.rmse(predictions)"
   ]
  },
  {
   "cell_type": "markdown",
   "metadata": {
    "id": "JKB-VZ0TWg54"
   },
   "source": [
    "## Show some results"
   ]
  },
  {
   "cell_type": "code",
   "execution_count": 21,
   "metadata": {
    "id": "Dd1ZKrInNp6x"
   },
   "outputs": [],
   "source": [
    "def get_Iu(uid):\n",
    "    \"\"\"returns the number of items rated by the user \"\"\"\n",
    "    try:\n",
    "        return len(trainset.ur[trainset.to_inner_uid(uid)])\n",
    "    except ValueError: # user was not part of the trainset\n",
    "        return 0\n",
    "    \n",
    "def get_Ui(iid):\n",
    "    \"\"\"returns the number of users that have rated the item \"\"\"\n",
    "    try: \n",
    "        return len(trainset.ir[trainset.to_inner_iid(iid)])\n",
    "    except ValueError:\n",
    "        return 0\n",
    "    \n"
   ]
  },
  {
   "cell_type": "code",
   "execution_count": 22,
   "metadata": {
    "colab": {
     "base_uri": "https://localhost:8080/",
     "height": 359
    },
    "id": "jUmh3ZTsN9t7",
    "outputId": "8e4d299c-0200-4820-ebd7-9f7d1fd2d721"
   },
   "outputs": [
    {
     "data": {
      "text/html": [
       "<div>\n",
       "<style scoped>\n",
       "    .dataframe tbody tr th:only-of-type {\n",
       "        vertical-align: middle;\n",
       "    }\n",
       "\n",
       "    .dataframe tbody tr th {\n",
       "        vertical-align: top;\n",
       "    }\n",
       "\n",
       "    .dataframe thead th {\n",
       "        text-align: right;\n",
       "    }\n",
       "</style>\n",
       "<table border=\"1\" class=\"dataframe\">\n",
       "  <thead>\n",
       "    <tr style=\"text-align: right;\">\n",
       "      <th></th>\n",
       "      <th>uid</th>\n",
       "      <th>iid</th>\n",
       "      <th>rui</th>\n",
       "      <th>est</th>\n",
       "      <th>details</th>\n",
       "      <th>Iu</th>\n",
       "      <th>Ui</th>\n",
       "      <th>err</th>\n",
       "    </tr>\n",
       "  </thead>\n",
       "  <tbody>\n",
       "    <tr>\n",
       "      <th>18688</th>\n",
       "      <td>ff448f7e29c82edfdf9fde5d4be8901f</td>\n",
       "      <td>18168902</td>\n",
       "      <td>5.0</td>\n",
       "      <td>5.0</td>\n",
       "      <td>{'was_impossible': False}</td>\n",
       "      <td>96</td>\n",
       "      <td>33</td>\n",
       "      <td>0.0</td>\n",
       "    </tr>\n",
       "    <tr>\n",
       "      <th>250135</th>\n",
       "      <td>17f1730775ed8fd9bd4c3cb3066cddd2</td>\n",
       "      <td>17927182</td>\n",
       "      <td>5.0</td>\n",
       "      <td>5.0</td>\n",
       "      <td>{'was_impossible': False}</td>\n",
       "      <td>139</td>\n",
       "      <td>41</td>\n",
       "      <td>0.0</td>\n",
       "    </tr>\n",
       "    <tr>\n",
       "      <th>74100</th>\n",
       "      <td>d033cacfec2b2d012bf5dd38131ab2f4</td>\n",
       "      <td>77523</td>\n",
       "      <td>5.0</td>\n",
       "      <td>5.0</td>\n",
       "      <td>{'was_impossible': False}</td>\n",
       "      <td>102</td>\n",
       "      <td>76</td>\n",
       "      <td>0.0</td>\n",
       "    </tr>\n",
       "    <tr>\n",
       "      <th>121404</th>\n",
       "      <td>7f76b4e6eeffbc251b1174dc7ecf4352</td>\n",
       "      <td>17202452</td>\n",
       "      <td>5.0</td>\n",
       "      <td>5.0</td>\n",
       "      <td>{'was_impossible': False}</td>\n",
       "      <td>346</td>\n",
       "      <td>154</td>\n",
       "      <td>0.0</td>\n",
       "    </tr>\n",
       "    <tr>\n",
       "      <th>297778</th>\n",
       "      <td>272ed5d6ea8581d6c9871aa96ebf5931</td>\n",
       "      <td>17756559</td>\n",
       "      <td>5.0</td>\n",
       "      <td>5.0</td>\n",
       "      <td>{'was_impossible': False}</td>\n",
       "      <td>201</td>\n",
       "      <td>154</td>\n",
       "      <td>0.0</td>\n",
       "    </tr>\n",
       "    <tr>\n",
       "      <th>44782</th>\n",
       "      <td>d132ed28aed3457cbcbfa5803a4a1918</td>\n",
       "      <td>16169533</td>\n",
       "      <td>0.0</td>\n",
       "      <td>0.0</td>\n",
       "      <td>{'was_impossible': False}</td>\n",
       "      <td>338</td>\n",
       "      <td>8</td>\n",
       "      <td>0.0</td>\n",
       "    </tr>\n",
       "    <tr>\n",
       "      <th>144806</th>\n",
       "      <td>def079f6192273cb2b3dfb896520c18a</td>\n",
       "      <td>24574656</td>\n",
       "      <td>0.0</td>\n",
       "      <td>0.0</td>\n",
       "      <td>{'was_impossible': False}</td>\n",
       "      <td>267</td>\n",
       "      <td>18</td>\n",
       "      <td>0.0</td>\n",
       "    </tr>\n",
       "    <tr>\n",
       "      <th>93655</th>\n",
       "      <td>2d8d2e5f9ca86670024142030f073bd4</td>\n",
       "      <td>32066878</td>\n",
       "      <td>5.0</td>\n",
       "      <td>5.0</td>\n",
       "      <td>{'was_impossible': False}</td>\n",
       "      <td>225</td>\n",
       "      <td>35</td>\n",
       "      <td>0.0</td>\n",
       "    </tr>\n",
       "    <tr>\n",
       "      <th>171397</th>\n",
       "      <td>e7d6f6549cbf7d4cd6a5a34bea357758</td>\n",
       "      <td>8621462</td>\n",
       "      <td>5.0</td>\n",
       "      <td>5.0</td>\n",
       "      <td>{'was_impossible': False}</td>\n",
       "      <td>230</td>\n",
       "      <td>725</td>\n",
       "      <td>0.0</td>\n",
       "    </tr>\n",
       "    <tr>\n",
       "      <th>297662</th>\n",
       "      <td>7ac68d284be15768081bd3e86a1431c9</td>\n",
       "      <td>11710373</td>\n",
       "      <td>5.0</td>\n",
       "      <td>5.0</td>\n",
       "      <td>{'was_impossible': False}</td>\n",
       "      <td>250</td>\n",
       "      <td>79</td>\n",
       "      <td>0.0</td>\n",
       "    </tr>\n",
       "  </tbody>\n",
       "</table>\n",
       "</div>"
      ],
      "text/plain": [
       "                                     uid       iid  rui  ...   Iu   Ui  err\n",
       "18688   ff448f7e29c82edfdf9fde5d4be8901f  18168902  5.0  ...   96   33  0.0\n",
       "250135  17f1730775ed8fd9bd4c3cb3066cddd2  17927182  5.0  ...  139   41  0.0\n",
       "74100   d033cacfec2b2d012bf5dd38131ab2f4     77523  5.0  ...  102   76  0.0\n",
       "121404  7f76b4e6eeffbc251b1174dc7ecf4352  17202452  5.0  ...  346  154  0.0\n",
       "297778  272ed5d6ea8581d6c9871aa96ebf5931  17756559  5.0  ...  201  154  0.0\n",
       "44782   d132ed28aed3457cbcbfa5803a4a1918  16169533  0.0  ...  338    8  0.0\n",
       "144806  def079f6192273cb2b3dfb896520c18a  24574656  0.0  ...  267   18  0.0\n",
       "93655   2d8d2e5f9ca86670024142030f073bd4  32066878  5.0  ...  225   35  0.0\n",
       "171397  e7d6f6549cbf7d4cd6a5a34bea357758   8621462  5.0  ...  230  725  0.0\n",
       "297662  7ac68d284be15768081bd3e86a1431c9  11710373  5.0  ...  250   79  0.0\n",
       "\n",
       "[10 rows x 8 columns]"
      ]
     },
     "execution_count": 22,
     "metadata": {
      "tags": []
     },
     "output_type": "execute_result"
    }
   ],
   "source": [
    "df = pd.DataFrame(predictions, columns=['uid', 'iid', 'rui', 'est', 'details'])\n",
    "df['Iu'] = df.uid.apply(get_Iu)\n",
    "df['Ui'] = df.iid.apply(get_Ui)\n",
    "df['err'] = abs(df.est - df.rui)\n",
    "\n",
    "#top ten best predictions\n",
    "best_predictions = df.sort_values(by='err')[:10]\n",
    "best_predictions"
   ]
  },
  {
   "cell_type": "code",
   "execution_count": 23,
   "metadata": {
    "colab": {
     "base_uri": "https://localhost:8080/",
     "height": 359
    },
    "id": "i8CqUbd_WySe",
    "outputId": "9703d043-6cf0-41a1-c402-1b86affe4647"
   },
   "outputs": [
    {
     "data": {
      "text/html": [
       "<div>\n",
       "<style scoped>\n",
       "    .dataframe tbody tr th:only-of-type {\n",
       "        vertical-align: middle;\n",
       "    }\n",
       "\n",
       "    .dataframe tbody tr th {\n",
       "        vertical-align: top;\n",
       "    }\n",
       "\n",
       "    .dataframe thead th {\n",
       "        text-align: right;\n",
       "    }\n",
       "</style>\n",
       "<table border=\"1\" class=\"dataframe\">\n",
       "  <thead>\n",
       "    <tr style=\"text-align: right;\">\n",
       "      <th></th>\n",
       "      <th>uid</th>\n",
       "      <th>iid</th>\n",
       "      <th>rui</th>\n",
       "      <th>est</th>\n",
       "      <th>details</th>\n",
       "      <th>Iu</th>\n",
       "      <th>Ui</th>\n",
       "      <th>err</th>\n",
       "    </tr>\n",
       "  </thead>\n",
       "  <tbody>\n",
       "    <tr>\n",
       "      <th>139482</th>\n",
       "      <td>53643c79f99eb10a8f0343cb082169f9</td>\n",
       "      <td>23389993</td>\n",
       "      <td>0.0</td>\n",
       "      <td>5.0</td>\n",
       "      <td>{'was_impossible': False}</td>\n",
       "      <td>367</td>\n",
       "      <td>41</td>\n",
       "      <td>5.0</td>\n",
       "    </tr>\n",
       "    <tr>\n",
       "      <th>252143</th>\n",
       "      <td>11525d39b06fcc7a4b41f068f34f3bb7</td>\n",
       "      <td>30826152</td>\n",
       "      <td>0.0</td>\n",
       "      <td>5.0</td>\n",
       "      <td>{'was_impossible': False}</td>\n",
       "      <td>332</td>\n",
       "      <td>19</td>\n",
       "      <td>5.0</td>\n",
       "    </tr>\n",
       "    <tr>\n",
       "      <th>84410</th>\n",
       "      <td>30047196afd5b95176e1a8a935c99acf</td>\n",
       "      <td>16060716</td>\n",
       "      <td>0.0</td>\n",
       "      <td>5.0</td>\n",
       "      <td>{'was_impossible': False}</td>\n",
       "      <td>205</td>\n",
       "      <td>156</td>\n",
       "      <td>5.0</td>\n",
       "    </tr>\n",
       "    <tr>\n",
       "      <th>21958</th>\n",
       "      <td>4ad272c41af8a81a381278a7587d14a9</td>\n",
       "      <td>17237477</td>\n",
       "      <td>0.0</td>\n",
       "      <td>5.0</td>\n",
       "      <td>{'was_impossible': False}</td>\n",
       "      <td>564</td>\n",
       "      <td>42</td>\n",
       "      <td>5.0</td>\n",
       "    </tr>\n",
       "    <tr>\n",
       "      <th>325968</th>\n",
       "      <td>e27409822e45be1a4c5c848783db0e24</td>\n",
       "      <td>30633337</td>\n",
       "      <td>0.0</td>\n",
       "      <td>5.0</td>\n",
       "      <td>{'was_impossible': False}</td>\n",
       "      <td>84</td>\n",
       "      <td>67</td>\n",
       "      <td>5.0</td>\n",
       "    </tr>\n",
       "    <tr>\n",
       "      <th>130922</th>\n",
       "      <td>2d6e0ea93a403354261dc77771359b0a</td>\n",
       "      <td>16006</td>\n",
       "      <td>0.0</td>\n",
       "      <td>5.0</td>\n",
       "      <td>{'was_impossible': False}</td>\n",
       "      <td>269</td>\n",
       "      <td>29</td>\n",
       "      <td>5.0</td>\n",
       "    </tr>\n",
       "    <tr>\n",
       "      <th>223566</th>\n",
       "      <td>3ffe42a4ad71cb54553f0e2976aa22c2</td>\n",
       "      <td>26148181</td>\n",
       "      <td>0.0</td>\n",
       "      <td>5.0</td>\n",
       "      <td>{'was_impossible': False}</td>\n",
       "      <td>203</td>\n",
       "      <td>55</td>\n",
       "      <td>5.0</td>\n",
       "    </tr>\n",
       "    <tr>\n",
       "      <th>178460</th>\n",
       "      <td>087ae3f0d82f3b66c1d2e788527d5cfd</td>\n",
       "      <td>6178648</td>\n",
       "      <td>0.0</td>\n",
       "      <td>5.0</td>\n",
       "      <td>{'was_impossible': False}</td>\n",
       "      <td>243</td>\n",
       "      <td>87</td>\n",
       "      <td>5.0</td>\n",
       "    </tr>\n",
       "    <tr>\n",
       "      <th>162367</th>\n",
       "      <td>0655c9bc5331d3abc3a23a64fc2cc5dc</td>\n",
       "      <td>29283884</td>\n",
       "      <td>0.0</td>\n",
       "      <td>5.0</td>\n",
       "      <td>{'was_impossible': False}</td>\n",
       "      <td>153</td>\n",
       "      <td>277</td>\n",
       "      <td>5.0</td>\n",
       "    </tr>\n",
       "    <tr>\n",
       "      <th>114366</th>\n",
       "      <td>9c237e22706f608960e45c41128af976</td>\n",
       "      <td>12649718</td>\n",
       "      <td>0.0</td>\n",
       "      <td>5.0</td>\n",
       "      <td>{'was_impossible': False}</td>\n",
       "      <td>112</td>\n",
       "      <td>210</td>\n",
       "      <td>5.0</td>\n",
       "    </tr>\n",
       "  </tbody>\n",
       "</table>\n",
       "</div>"
      ],
      "text/plain": [
       "                                     uid       iid  rui  ...   Iu   Ui  err\n",
       "139482  53643c79f99eb10a8f0343cb082169f9  23389993  0.0  ...  367   41  5.0\n",
       "252143  11525d39b06fcc7a4b41f068f34f3bb7  30826152  0.0  ...  332   19  5.0\n",
       "84410   30047196afd5b95176e1a8a935c99acf  16060716  0.0  ...  205  156  5.0\n",
       "21958   4ad272c41af8a81a381278a7587d14a9  17237477  0.0  ...  564   42  5.0\n",
       "325968  e27409822e45be1a4c5c848783db0e24  30633337  0.0  ...   84   67  5.0\n",
       "130922  2d6e0ea93a403354261dc77771359b0a     16006  0.0  ...  269   29  5.0\n",
       "223566  3ffe42a4ad71cb54553f0e2976aa22c2  26148181  0.0  ...  203   55  5.0\n",
       "178460  087ae3f0d82f3b66c1d2e788527d5cfd   6178648  0.0  ...  243   87  5.0\n",
       "162367  0655c9bc5331d3abc3a23a64fc2cc5dc  29283884  0.0  ...  153  277  5.0\n",
       "114366  9c237e22706f608960e45c41128af976  12649718  0.0  ...  112  210  5.0\n",
       "\n",
       "[10 rows x 8 columns]"
      ]
     },
     "execution_count": 23,
     "metadata": {
      "tags": []
     },
     "output_type": "execute_result"
    }
   ],
   "source": [
    "#top ten worst predictions\n",
    "worst_predictions = df.sort_values(by='err')[-10:]\n",
    "worst_predictions"
   ]
  },
  {
   "cell_type": "code",
   "execution_count": null,
   "metadata": {
    "id": "YwQD5r3VW0rw"
   },
   "outputs": [],
   "source": []
  }
 ],
 "metadata": {
  "colab": {
   "collapsed_sections": [],
   "name": "Untitled2.ipynb",
   "provenance": []
  },
  "kernelspec": {
   "display_name": "Python 3",
   "language": "python",
   "name": "python3"
  },
  "language_info": {
   "codemirror_mode": {
    "name": "ipython",
    "version": 3
   },
   "file_extension": ".py",
   "mimetype": "text/x-python",
   "name": "python",
   "nbconvert_exporter": "python",
   "pygments_lexer": "ipython3",
   "version": "3.7.3"
  }
 },
 "nbformat": 4,
 "nbformat_minor": 1
}
